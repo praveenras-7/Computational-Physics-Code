{
 "cells": [
  {
   "cell_type": "code",
   "execution_count": 440,
   "metadata": {},
   "outputs": [],
   "source": [
    "import numpy as np\n",
    "import pandas as pd\n",
    "from scipy import constants as const\n",
    "from matplotlib import pyplot as plt"
   ]
  },
  {
   "cell_type": "code",
   "execution_count": 441,
   "metadata": {},
   "outputs": [],
   "source": [
    "%matplotlib widget"
   ]
  },
  {
   "cell_type": "code",
   "execution_count": 442,
   "metadata": {},
   "outputs": [
    {
     "output_type": "execute_result",
     "data": {
      "text/plain": [
       "(6.62607015e-34, 299792458.0, 1.380649e-23, 3.141592653589793)"
      ]
     },
     "metadata": {},
     "execution_count": 442
    }
   ],
   "source": [
    "h = const.h\n",
    "c = const.c\n",
    "k = const.k\n",
    "pi = const.pi\n",
    "h, c, k, pi"
   ]
  },
  {
   "cell_type": "code",
   "execution_count": 443,
   "metadata": {},
   "outputs": [],
   "source": [
    "T = [300, 3000, 6000]"
   ]
  },
  {
   "cell_type": "code",
   "execution_count": 444,
   "metadata": {},
   "outputs": [],
   "source": [
    "l = np.linspace(100e-9, 10000e-9, 1000)"
   ]
  },
  {
   "cell_type": "code",
   "execution_count": 445,
   "metadata": {},
   "outputs": [],
   "source": [
    "def black_body(l, T):\n",
    "    return ( 8 * pi * h * c )/(l**5 * (np.exp((h * c)/(l * k * T)) - 1))"
   ]
  },
  {
   "cell_type": "code",
   "execution_count": 446,
   "metadata": {},
   "outputs": [],
   "source": [
    "E = black_body"
   ]
  },
  {
   "cell_type": "code",
   "execution_count": 447,
   "metadata": {},
   "outputs": [
    {
     "output_type": "display_data",
     "data": {
      "text/plain": "Canvas(toolbar=Toolbar(toolitems=[('Home', 'Reset original view', 'home', 'home'), ('Back', 'Back to previous …",
      "application/vnd.jupyter.widget-view+json": {
       "version_major": 2,
       "version_minor": 0,
       "model_id": "2e21e9161a2840f5b737ea3ff155cc06"
      }
     },
     "metadata": {}
    }
   ],
   "source": [
    "fig = plt.figure()\n",
    "ax = fig.gca()"
   ]
  },
  {
   "cell_type": "code",
   "execution_count": 448,
   "metadata": {},
   "outputs": [],
   "source": [
    "ax.set_yscale('linear',)\n",
    "ax.set_xscale('linear')"
   ]
  },
  {
   "cell_type": "code",
   "execution_count": 449,
   "metadata": {},
   "outputs": [
    {
     "output_type": "execute_result",
     "data": {
      "text/plain": [
       "Text(0.5, 1.0, 'BLACK BODY RADIATION CURVE')"
      ]
     },
     "metadata": {},
     "execution_count": 449
    }
   ],
   "source": [
    "plt.xlabel('wavelength (nm)',color = 'r')\n",
    "plt.ylabel('spectral energy density(kJ / nm)',color = 'b')\n",
    "plt.title(\"BLACK BODY RADIATION CURVE\",color = 'purple')"
   ]
  },
  {
   "cell_type": "code",
   "execution_count": 450,
   "metadata": {},
   "outputs": [
    {
     "output_type": "stream",
     "name": "stdout",
     "text": [
      "9.663063063063064e-06\n9.621621621621622e-07\n4.864864864864865e-07\n"
     ]
    },
    {
     "output_type": "execute_result",
     "data": {
      "text/plain": [
       "<matplotlib.legend.Legend at 0x21240cb70a0>"
      ]
     },
     "metadata": {},
     "execution_count": 450
    }
   ],
   "source": [
    "for t in T:\n",
    "    e = E(l, t)\n",
    "    imax = e.argmax()\n",
    "    print(l[imax])\n",
    "    ax.plot(l, e, label=str(t) + 'K',linestyle=\"-.\")\n",
    "\n",
    "plt.legend()"
   ]
  }
 ],
 "metadata": {
  "kernelspec": {
   "name": "python385jvsc74a57bd0827597cbf72a66b05ddb4459d7e0517143550be72aa5ac73d126d3a9194006f7",
   "display_name": "Python 3.8.5 64-bit (conda)"
  },
  "language_info": {
   "codemirror_mode": {
    "name": "ipython",
    "version": 3
   },
   "file_extension": ".py",
   "mimetype": "text/x-python",
   "name": "python",
   "nbconvert_exporter": "python",
   "pygments_lexer": "ipython3",
   "version": "3.8.5"
  }
 },
 "nbformat": 4,
 "nbformat_minor": 2
}