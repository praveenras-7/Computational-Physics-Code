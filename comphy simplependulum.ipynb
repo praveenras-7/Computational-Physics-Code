{
 "cells": [
  {
   "cell_type": "code",
   "execution_count": 2,
   "metadata": {},
   "outputs": [],
   "source": [
    "import numpy as np\n",
    "import math\n",
    "from matplotlib import pyplot as plt\n",
    "import pandas as pd\n"
   ]
  },
  {
   "cell_type": "code",
   "execution_count": 3,
   "metadata": {},
   "outputs": [],
   "source": [
    "\n",
    "#defining function for finding omega\n",
    "def f(t, th, w):\n",
    "    return w\n",
    "#defining function for finding theta\n",
    "def g(t, th, w):\n",
    "    return ( - 9.8 * np.sin(th) )"
   ]
  },
  {
   "cell_type": "code",
   "execution_count": 4,
   "metadata": {},
   "outputs": [],
   "source": [
    "#parameters\n",
    "t = np.linspace(0, 10, 200+1)\n",
    "th = [0.25]\n",
    "w = [0.0]\n",
    "h=0.05\n",
    "a=[]"
   ]
  },
  {
   "cell_type": "code",
   "execution_count": 5,
   "metadata": {},
   "outputs": [],
   "source": [
    "\n",
    "#Runge Kutta 4th order method\n",
    "for i in range(200):\n",
    "    k1 = h * f( t[i], th[i], w[i])\n",
    "    l1 = h * g( t[i], th[i], w[i])\n",
    "    k2 = h * f( t[i] + h/2, th[i] + k1 / 2 , w[i] + l1 / 2 )\n",
    "    l2 = h * g(t[i] + h/2, th[i] + k1/2, w[i] + l1 / 2)\n",
    "    k3 = h * f(t[i] + h/2, th[i] + k2/2, w[i] + l2 /2)\n",
    "    l3 = h * g(t[i] + h/2, th[i] + k2/2, w[i] + l2/2)\n",
    "    k4 = h * f(t[i] + h, th[i] + k3, w[i] + l3 )\n",
    "    l4 = h * g(t[i] + h, th[i] + k3, w[i] + l3)\n",
    "    th.append(th[i] + (k1 + 2 * k2 + 2 * k3 + k4)/6)\n",
    "    w.append(w[i]  + (l1 + 2 * l2 + 2 * l3 + l4)/6)\n",
    "    "
   ]
  },
  {
   "cell_type": "code",
   "execution_count": 6,
   "metadata": {},
   "outputs": [],
   "source": [
    "\n",
    "#for finding acceleration\n",
    "for i in th:\n",
    "      a.append(-9.8 * np.sin(i))"
   ]
  },
  {
   "cell_type": "code",
   "execution_count": 7,
   "metadata": {},
   "outputs": [],
   "source": [
    "#Analytical Solution\n",
    "def theta(t):\n",
    "    return 0.25 * np.cos(np.sqrt(9.8) * t)\n",
    "def omega(t):\n",
    "    return (-0.25 * np.sqrt(9.8) * np.sin(np.sqrt(9.8)*t))\n",
    "def alpha(t):\n",
    "    return -0.25 * 9.8 * np.cos(np.sqrt(9.8) * t)\n"
   ]
  },
  {
   "cell_type": "code",
   "execution_count": 8,
   "metadata": {},
   "outputs": [],
   "source": [
    "d=[]\n",
    "d.append(theta(t))\n",
    "f=[]\n",
    "f.append(omega(t))\n",
    "u=[]\n",
    "u.append(alpha(t))"
   ]
  },
  {
   "cell_type": "code",
   "execution_count": 9,
   "metadata": {},
   "outputs": [
    {
     "data": {
      "text/html": [
       "<div>\n",
       "<style scoped>\n",
       "    .dataframe tbody tr th:only-of-type {\n",
       "        vertical-align: middle;\n",
       "    }\n",
       "\n",
       "    .dataframe tbody tr th {\n",
       "        vertical-align: top;\n",
       "    }\n",
       "\n",
       "    .dataframe thead th {\n",
       "        text-align: right;\n",
       "    }\n",
       "</style>\n",
       "<table border=\"1\" class=\"dataframe\">\n",
       "  <thead>\n",
       "    <tr style=\"text-align: right;\">\n",
       "      <th></th>\n",
       "      <th>0</th>\n",
       "    </tr>\n",
       "  </thead>\n",
       "  <tbody>\n",
       "    <tr>\n",
       "      <th>0</th>\n",
       "      <td>0.000000</td>\n",
       "    </tr>\n",
       "    <tr>\n",
       "      <th>1</th>\n",
       "      <td>-0.120748</td>\n",
       "    </tr>\n",
       "    <tr>\n",
       "      <th>2</th>\n",
       "      <td>-0.238632</td>\n",
       "    </tr>\n",
       "    <tr>\n",
       "      <th>3</th>\n",
       "      <td>-0.350844</td>\n",
       "    </tr>\n",
       "    <tr>\n",
       "      <th>4</th>\n",
       "      <td>-0.454688</td>\n",
       "    </tr>\n",
       "    <tr>\n",
       "      <th>...</th>\n",
       "      <td>...</td>\n",
       "    </tr>\n",
       "    <tr>\n",
       "      <th>196</th>\n",
       "      <td>0.589039</td>\n",
       "    </tr>\n",
       "    <tr>\n",
       "      <th>197</th>\n",
       "      <td>0.502367</td>\n",
       "    </tr>\n",
       "    <tr>\n",
       "      <th>198</th>\n",
       "      <td>0.403633</td>\n",
       "    </tr>\n",
       "    <tr>\n",
       "      <th>199</th>\n",
       "      <td>0.295253</td>\n",
       "    </tr>\n",
       "    <tr>\n",
       "      <th>200</th>\n",
       "      <td>0.179843</td>\n",
       "    </tr>\n",
       "  </tbody>\n",
       "</table>\n",
       "<p>201 rows × 1 columns</p>\n",
       "</div>"
      ],
      "text/plain": [
       "            0\n",
       "0    0.000000\n",
       "1   -0.120748\n",
       "2   -0.238632\n",
       "3   -0.350844\n",
       "4   -0.454688\n",
       "..        ...\n",
       "196  0.589039\n",
       "197  0.502367\n",
       "198  0.403633\n",
       "199  0.295253\n",
       "200  0.179843\n",
       "\n",
       "[201 rows x 1 columns]"
      ]
     },
     "execution_count": 9,
     "metadata": {},
     "output_type": "execute_result"
    }
   ],
   "source": [
    "#numerical values for angular velocity:\n",
    "numerical_v = pd.DataFrame(w)\n",
    "numerical_v\n"
   ]
  },
  {
   "cell_type": "code",
   "execution_count": 10,
   "metadata": {},
   "outputs": [
    {
     "data": {
      "text/plain": [
       "0     -0.000000\n",
       "1     -0.122000\n",
       "2     -0.241018\n",
       "3     -0.354142\n",
       "4     -0.458608\n",
       "         ...   \n",
       "196    0.526020\n",
       "197    0.429256\n",
       "198    0.321996\n",
       "199    0.206864\n",
       "200    0.086673\n",
       "Name: 0, Length: 201, dtype: float64"
      ]
     },
     "execution_count": 10,
     "metadata": {},
     "output_type": "execute_result"
    }
   ],
   "source": [
    "#analytical values for angular velocity\n",
    "analytical_v = pd.DataFrame(f)\n",
    "analytical_v.loc[0]"
   ]
  },
  {
   "cell_type": "code",
   "execution_count": 20,
   "metadata": {},
   "outputs": [
    {
     "data": {
      "text/plain": [
       "Text(0, 0.5, ' Angular Velocity(rad/s)')"
      ]
     },
     "execution_count": 20,
     "metadata": {},
     "output_type": "execute_result"
    },
    {
     "data": {
      "image/png": "[encoded data removed]",
      "text/plain": [
       "<Figure size 432x288 with 1 Axes>"
      ]
     },
     "metadata": {
      "needs_background": "light"
     },
     "output_type": "display_data"
    }
   ],
   "source": [
    "#Comparing results for Angular velocity  analytically and numerically:\n",
    "plt.plot(t,omega(t))\n",
    "plt.plot(t,w)\n",
    "plt.title ( ' Comparing results for Angular velocity  analytically and numerically: ' )\n",
    "plt.xlabel ( ' Time(s) ' )\n",
    "plt.ylabel ( ' Angular Velocity(rad/s)' )\n",
    "#BLUE COLOR - ANALYTICAL METHOD\n",
    "#ORANGE COLOR - NUMERICAL METHOD"
   ]
  },
  {
   "cell_type": "code",
   "execution_count": 54,
   "metadata": {},
   "outputs": [
    {
     "data": {
      "text/html": [
       "<div>\n",
       "<style scoped>\n",
       "    .dataframe tbody tr th:only-of-type {\n",
       "        vertical-align: middle;\n",
       "    }\n",
       "\n",
       "    .dataframe tbody tr th {\n",
       "        vertical-align: top;\n",
       "    }\n",
       "\n",
       "    .dataframe thead th {\n",
       "        text-align: right;\n",
       "    }\n",
       "</style>\n",
       "<table border=\"1\" class=\"dataframe\">\n",
       "  <thead>\n",
       "    <tr style=\"text-align: right;\">\n",
       "      <th></th>\n",
       "      <th>0</th>\n",
       "    </tr>\n",
       "  </thead>\n",
       "  <tbody>\n",
       "    <tr>\n",
       "      <th>0</th>\n",
       "      <td>-2.424559</td>\n",
       "    </tr>\n",
       "    <tr>\n",
       "      <th>1</th>\n",
       "      <td>-2.395827</td>\n",
       "    </tr>\n",
       "    <tr>\n",
       "      <th>2</th>\n",
       "      <td>-2.310185</td>\n",
       "    </tr>\n",
       "    <tr>\n",
       "      <th>3</th>\n",
       "      <td>-2.169308</td>\n",
       "    </tr>\n",
       "    <tr>\n",
       "      <th>4</th>\n",
       "      <td>-1.976035</td>\n",
       "    </tr>\n",
       "    <tr>\n",
       "      <th>...</th>\n",
       "      <td>...</td>\n",
       "    </tr>\n",
       "    <tr>\n",
       "      <th>196</th>\n",
       "      <td>-1.597996</td>\n",
       "    </tr>\n",
       "    <tr>\n",
       "      <th>197</th>\n",
       "      <td>-1.861712</td>\n",
       "    </tr>\n",
       "    <tr>\n",
       "      <th>198</th>\n",
       "      <td>-2.079577</td>\n",
       "    </tr>\n",
       "    <tr>\n",
       "      <th>199</th>\n",
       "      <td>-2.246910</td>\n",
       "    </tr>\n",
       "    <tr>\n",
       "      <th>200</th>\n",
       "      <td>-2.360271</td>\n",
       "    </tr>\n",
       "  </tbody>\n",
       "</table>\n",
       "<p>201 rows × 1 columns</p>\n",
       "</div>"
      ],
      "text/plain": [
       "            0\n",
       "0   -2.424559\n",
       "1   -2.395827\n",
       "2   -2.310185\n",
       "3   -2.169308\n",
       "4   -1.976035\n",
       "..        ...\n",
       "196 -1.597996\n",
       "197 -1.861712\n",
       "198 -2.079577\n",
       "199 -2.246910\n",
       "200 -2.360271\n",
       "\n",
       "[201 rows x 1 columns]"
      ]
     },
     "execution_count": 54,
     "metadata": {},
     "output_type": "execute_result"
    }
   ],
   "source": [
    "#numerical value for angular acceleration:\n",
    "numerical_a = pd.DataFrame(a)\n",
    "numerical_a"
   ]
  },
  {
   "cell_type": "code",
   "execution_count": 81,
   "metadata": {},
   "outputs": [
    {
     "data": {
      "text/plain": [
       "0     -2.450000\n",
       "1     -2.420049\n",
       "2     -2.330927\n",
       "3     -2.184814\n",
       "4     -1.985283\n",
       "         ...   \n",
       "196   -1.814074\n",
       "197   -2.048596\n",
       "198   -2.233029\n",
       "199   -2.362865\n",
       "200   -2.434929\n",
       "Name: 0, Length: 201, dtype: float64"
      ]
     },
     "execution_count": 81,
     "metadata": {},
     "output_type": "execute_result"
    }
   ],
   "source": [
    "#analytical values for angular acceleration:\n",
    "analytical_a = pd.DataFrame(u)\n",
    "analytical_a.loc[0]\n"
   ]
  },
  {
   "cell_type": "code",
   "execution_count": 18,
   "metadata": {},
   "outputs": [
    {
     "data": {
      "text/plain": [
       "Text(0, 0.5, ' Angular acceleration(rad/s^2)')"
      ]
     },
     "execution_count": 18,
     "metadata": {},
     "output_type": "execute_result"
    },
    {
     "data": {
      "image/png": "[encoded data removed]",
      "text/plain": [
       "<Figure size 432x288 with 1 Axes>"
      ]
     },
     "metadata": {
      "needs_background": "light"
     },
     "output_type": "display_data"
    }
   ],
   "source": [
    "#Comparing results for Angular acceleration analytically and numerically\n",
    "plt.plot(t,alpha(t))\n",
    "plt.plot(t,a)\n",
    "plt.title ( ' Comparing results for Angular acceleration  analytically and numerically: ' )\n",
    "plt.xlabel ( ' Time(s) ' )\n",
    "plt.ylabel ( ' Angular acceleration(rad/s^2)' )\n",
    "#BLUE COLOR - ANALYTICAL METHOD\n",
    "#ORANGE COLOR - NUMERICAL METHOD"
   ]
  },
  {
   "cell_type": "code",
   "execution_count": null,
   "metadata": {},
   "outputs": [],
   "source": []
  }
 ],
 "metadata": {
  "kernelspec": {
   "display_name": "Python 3",
   "language": "python",
   "name": "python3"
  },
  "language_info": {
   "codemirror_mode": {
    "name": "ipython",
    "version": 3
   },
   "file_extension": ".py",
   "mimetype": "text/x-python",
   "name": "python",
   "nbconvert_exporter": "python",
   "pygments_lexer": "ipython3",
   "version": "3.8.3"
  }
 },
 "nbformat": 4,
 "nbformat_minor": 4
}
