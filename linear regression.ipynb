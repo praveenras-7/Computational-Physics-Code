{
 "cells": [
  {
   "cell_type": "code",
   "execution_count": 1,
   "metadata": {},
   "outputs": [],
   "source": [
    "import numpy as np \n",
    "import tensorflow as tf \n",
    "import matplotlib.pyplot as plt \n",
    "import time"
   ]
  },
  {
   "cell_type": "code",
   "execution_count": 2,
   "metadata": {},
   "outputs": [
    {
     "name": "stdout",
     "output_type": "stream",
     "text": [
      "<module 'tensorflow._api.v1.version' from 'D:\\\\Users\\\\M PRAVEEN\\\\anaconda3\\\\envs\\\\juptenflowgpu115\\\\lib\\\\site-packages\\\\tensorflow_core\\\\_api\\\\v1\\\\version\\\\__init__.py'>\n",
      "True\n",
      "True\n"
     ]
    }
   ],
   "source": [
    "print(tf.version)\n",
    "print(tf.test.is_built_with_cuda())\n",
    "print(tf.test.is_gpu_available(cuda_only=False, min_cuda_compute_capability=None))"
   ]
  },
  {
   "cell_type": "markdown",
   "metadata": {},
   "source": [
    "tf.enable_eager_execution(\n",
    "    config=None, device_policy=None, execution_mode=None\n",
    ")\n"
   ]
  },
  {
   "cell_type": "code",
   "execution_count": 3,
   "metadata": {},
   "outputs": [],
   "source": [
    "np.random.seed(101) \n",
    "tf.set_random_seed(101) "
   ]
  },
  {
   "cell_type": "code",
   "execution_count": 4,
   "metadata": {},
   "outputs": [],
   "source": [
    "# Genrating random linear data \n",
    "# There will be 50 data points ranging from 0 to 50 \n",
    "x = np.linspace(0, 50, 50) \n",
    "y = np.linspace(0, 50, 50) \n",
    "  \n",
    "# Adding noise to the random linear data \n",
    "x += np.random.uniform(-4, 4, 50) \n",
    "y += np.random.uniform(-4, 4, 50) \n",
    "  \n",
    "n = len(x) # Number of data points "
   ]
  },
  {
   "cell_type": "code",
   "execution_count": 5,
   "metadata": {},
   "outputs": [
    {
     "data": {
      "image/png": "[encoded data removed]",
      "text/plain": [
       "<Figure size 432x288 with 1 Axes>"
      ]
     },
     "metadata": {
      "needs_background": "light"
     },
     "output_type": "display_data"
    }
   ],
   "source": [
    "# Plot of Training Data \n",
    "plt.scatter(x, y) \n",
    "plt.xlabel('x') \n",
    "plt.xlabel('y') \n",
    "plt.title(\"Training Data\") \n",
    "plt.show() "
   ]
  },
  {
   "cell_type": "markdown",
   "metadata": {},
   "source": [
    "# Eager execution workspace"
   ]
  },
  {
   "cell_type": "markdown",
   "metadata": {},
   "source": [
    "# Initialize Tensorflow"
   ]
  },
  {
   "cell_type": "code",
   "execution_count": 6,
   "metadata": {},
   "outputs": [],
   "source": [
    "X = tf.placeholder(tf.float32) \n",
    "Y = tf.placeholder(tf.float32) "
   ]
  },
  {
   "cell_type": "code",
   "execution_count": 7,
   "metadata": {},
   "outputs": [],
   "source": [
    "W = tf.Variable(np.random.randn(), name = \"W\", dtype=tf.float32) \n",
    "b = tf.Variable(np.random.randn(), name = \"b\", dtype=tf.float32) "
   ]
  },
  {
   "cell_type": "code",
   "execution_count": 8,
   "metadata": {},
   "outputs": [],
   "source": [
    "learning_rate = 0.01\n",
    "training_epochs = 1000"
   ]
  },
  {
   "cell_type": "code",
   "execution_count": 9,
   "metadata": {},
   "outputs": [],
   "source": [
    "# Hypothesis \n",
    "y_pred = tf.add(tf.multiply(X, W), b) "
   ]
  },
  {
   "cell_type": "code",
   "execution_count": 10,
   "metadata": {},
   "outputs": [],
   "source": [
    "# Mean Squared Error Cost Function \n",
    "cost = tf.reduce_sum(tf.pow(y_pred-Y, 2)) / (2 * n) "
   ]
  },
  {
   "cell_type": "markdown",
   "metadata": {},
   "source": [
    "## GradientDescent Optimizer"
   ]
  },
  {
   "cell_type": "code",
   "execution_count": 11,
   "metadata": {},
   "outputs": [
    {
     "name": "stdout",
     "output_type": "stream",
     "text": [
      "WARNING:tensorflow:From D:\\Users\\M PRAVEEN\\anaconda3\\envs\\juptenflowgpu115\\lib\\site-packages\\tensorflow_core\\python\\ops\\math_grad.py:1375: where (from tensorflow.python.ops.array_ops) is deprecated and will be removed in a future version.\n",
      "Instructions for updating:\n",
      "Use tf.where in 2.0, which has the same broadcast rule as np.where\n"
     ]
    }
   ],
   "source": [
    "# Gradient Descent Optimizer \n",
    "optimizer = tf.train.GradientDescentOptimizer(learning_rate).minimize(cost, var_list=[W, b])\n",
    "\n",
    "# Global Variables Initializer \n",
    "init = tf.global_variables_initializer() "
   ]
  },
  {
   "cell_type": "code",
   "execution_count": 12,
   "metadata": {},
   "outputs": [
    {
     "name": "stdout",
     "output_type": "stream",
     "text": [
      "Epoch 50 : cost = 0.62494874 W = 0.9951241 b = 1.2381054\n",
      "Epoch 100 : cost = 0.5456658 W = 0.99812365 b = 1.0914398\n",
      "Epoch 150 : cost = 0.48087728 W = 1.0008028 b = 0.96044314\n",
      "Epoch 200 : cost = 0.42781496 W = 1.0031956 b = 0.8434396\n",
      "Epoch 250 : cost = 0.3842523 W = 1.0053328 b = 0.7389357\n",
      "Epoch 300 : cost = 0.3484033 W = 1.007242 b = 0.6455922\n",
      "Epoch 350 : cost = 0.3188218 W = 1.008947 b = 0.56222\n",
      "Epoch 400 : cost = 0.2943482 W = 1.01047 b = 0.48775345\n",
      "Epoch 450 : cost = 0.27403834 W = 1.0118302 b = 0.42124167\n",
      "Epoch 500 : cost = 0.25713938 W = 1.0130452 b = 0.36183488\n",
      "Epoch 550 : cost = 0.24303497 W = 1.0141305 b = 0.30877414\n",
      "Epoch 600 : cost = 0.2312225 W = 1.0150996 b = 0.26138115\n",
      "Epoch 650 : cost = 0.22130199 W = 1.0159653 b = 0.21905091\n",
      "Epoch 700 : cost = 0.2129444 W = 1.0167387 b = 0.18124212\n",
      "Epoch 750 : cost = 0.20587914 W = 1.0174294 b = 0.14747244\n",
      "Epoch 800 : cost = 0.19988586 W = 1.0180461 b = 0.11730931\n",
      "Epoch 850 : cost = 0.19478957 W = 1.0185971 b = 0.090368524\n",
      "Epoch 900 : cost = 0.19043976 W = 1.0190892 b = 0.0663058\n",
      "Epoch 950 : cost = 0.18671921 W = 1.0195289 b = 0.044813324\n",
      "Epoch 1000 : cost = 0.1835218 W = 1.0199214 b = 0.02561663\n"
     ]
    }
   ],
   "source": [
    "with tf.Session() as sess: \n",
    "      \n",
    "    # Initializing the Variables \n",
    "    sess.run(init) \n",
    "      \n",
    "    # Iterating through all the epochs \n",
    "    for epoch in range(training_epochs): \n",
    "          \n",
    "        # Feeding each data point into the optimizer using Feed Dictionary \n",
    "        for (_x, _y) in zip(x, y): \n",
    "            sess.run(optimizer, feed_dict = {X : _x, Y : _y}) \n",
    "          \n",
    "        # Displaying the result after every 50 epochs \n",
    "        if (epoch + 1) % 50 == 0: \n",
    "            # Calculating the cost a every epoch \n",
    "            c = sess.run(cost, feed_dict = {X : x, Y : x}) \n",
    "            print(\"Epoch\", (epoch + 1), \": cost =\", c, \"W =\", sess.run(W), \"b =\", sess.run(b)) \n",
    "      \n",
    "    # Storing necessary values to be used outside the Session \n",
    "    training_cost = sess.run(cost, feed_dict ={X: x, Y: y}) \n",
    "    weight = sess.run(W) \n",
    "    bias = sess.run(b) "
   ]
  },
  {
   "cell_type": "markdown",
   "metadata": {},
   "source": [
    "## Adam Optimizer"
   ]
  },
  {
   "cell_type": "code",
   "execution_count": 13,
   "metadata": {},
   "outputs": [],
   "source": [
    "# AdamMinimize = tf.train.AdamOptimizer().minimize(loss=cost)\n",
    "\n",
    "# # Global Variables Initializer \n",
    "# init = tf.global_variables_initializer() \n",
    "\n",
    "# with tf.Session() as sess: \n",
    "\n",
    "#     # Initializing the Variables \n",
    "#     sess.run(init) \n",
    "\n",
    "#     start_time = time.time()\n",
    "#     # Iterating through all the epochs \n",
    "#     for epoch in range(training_epochs): \n",
    "        \n",
    "#         # Feeding each data point into the optimizer using Feed Dictionary \n",
    "#         for (_x, _y) in zip(x, y): \n",
    "#             sess.run(AdamMinimize, feed_dict = {X : _x, Y : _y}) \n",
    "#         # sess.run(AdamMinimize, feed_dict = {X : x, Y : y}) \n",
    "        \n",
    "#         # Displaying the result after every 50 epochs \n",
    "#         if (epoch + 1) % 50 == 0: \n",
    "#             # Calculating the cost a every epoch \n",
    "#             c = sess.run(cost, feed_dict = {X : x, Y : y}) \n",
    "#             print(\"Epoch\", (epoch + 1), \": cost =\", c, \"W =\", sess.run(W), \"b =\", sess.run(b)) \n",
    "#     elapsed = time.time() - start_time\n",
    "#     print(\"time: %f\", elapsed)\n",
    "#     # Storing necessary values to be used outside the Session \n",
    "#     training_cost = sess.run(cost, feed_dict ={X: x, Y: y}) \n",
    "#     weight = sess.run(W) \n",
    "#     bias = sess.run(b) "
   ]
  },
  {
   "cell_type": "markdown",
   "metadata": {},
   "source": [
    "# Plotting"
   ]
  },
  {
   "cell_type": "code",
   "execution_count": 14,
   "metadata": {},
   "outputs": [
    {
     "name": "stdout",
     "output_type": "stream",
     "text": [
      "Training cost = 5.3110332 Weight = 1.0199214 bias = 0.02561663 \n",
      "\n"
     ]
    }
   ],
   "source": [
    "# Calculating the predictions \n",
    "predictions = weight * x + bias \n",
    "print(\"Training cost =\", training_cost, \"Weight =\", weight, \"bias =\", bias, '\\n') "
   ]
  },
  {
   "cell_type": "code",
   "execution_count": 15,
   "metadata": {},
   "outputs": [
    {
     "data": {
      "image/png": "[encoded data removed]",
      "text/plain": [
       "<Figure size 432x288 with 1 Axes>"
      ]
     },
     "metadata": {
      "needs_background": "light"
     },
     "output_type": "display_data"
    }
   ],
   "source": [
    "# Plotting the Results \n",
    "plt.plot(x, y, 'ro', label ='Original data') \n",
    "plt.plot(x, predictions, label ='Fitted line') \n",
    "plt.title('Linear Regression Result') \n",
    "plt.legend() \n",
    "plt.show() \n"
   ]
  },
  {
   "cell_type": "code",
   "execution_count": null,
   "metadata": {},
   "outputs": [],
   "source": []
  },
  {
   "cell_type": "code",
   "execution_count": null,
   "metadata": {},
   "outputs": [],
   "source": []
  }
 ],
 "metadata": {
  "kernelspec": {
   "display_name": "Python 3",
   "language": "python",
   "name": "python3"
  },
  "language_info": {
   "codemirror_mode": {
    "name": "ipython",
    "version": 3
   },
   "file_extension": ".py",
   "mimetype": "text/x-python",
   "name": "python",
   "nbconvert_exporter": "python",
   "pygments_lexer": "ipython3",
   "version": "3.7.10"
  }
 },
 "nbformat": 4,
 "nbformat_minor": 2
}
